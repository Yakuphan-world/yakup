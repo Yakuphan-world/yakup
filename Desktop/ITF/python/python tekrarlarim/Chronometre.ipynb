{
 "cells": [
  {
   "cell_type": "code",
   "execution_count": null,
   "metadata": {},
   "outputs": [],
   "source": [
    "import time \n",
    "\n",
    "for i in range (61) :\n",
    "      for j in range (61):\n",
    "            for k in range (61):\n",
    "                  print(f\"{i} saat {j} dakika {k} saniye\")\n",
    "                  time.sleep(1.0)"
   ]
  }
 ],
 "metadata": {
  "language_info": {
   "name": "python"
  },
  "orig_nbformat": 4
 },
 "nbformat": 4,
 "nbformat_minor": 2
}
