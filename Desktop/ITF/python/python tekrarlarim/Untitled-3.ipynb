{
 "cells": [
  {
   "cell_type": "code",
   "execution_count": 18,
   "metadata": {},
   "outputs": [
    {
     "name": "stdout",
     "output_type": "stream",
     "text": [
      "17 adet 200 TL\n",
      "1 adet 100 TL\n",
      "2 adet 20 TL\n",
      "2 adet 1 TL\n"
     ]
    }
   ],
   "source": [
    "\"\"\"Task-26: Klavyeden girilen para miktarını şu anda kullanılmakta olan para kupürlerine (200,100,50,20,10,5,1) göre en az sayıda kupür ile ödemek için bir veznedara yardımcı olacak veznedar(para) isimli bir fonksiyonu yazınız.\n",
    "Örneğin klavyeden 2456 girildiğine programın çıktısı aşağıdaki gibi olmalı;\n",
    "12 adet 200 TL\n",
    "1 adet 50 TL\n",
    "1 adet 5 TL\n",
    "1 adet 1 TL\n",
    "verilmeli...\"\"\"\n",
    "\n",
    "\n",
    "def para(x):\n",
    "      if x >0 :\n",
    "            \"\"\"ilk basta tam sayi bölmesi yapiyoruz tam bir sekilde bölerse o degeri toplam degerden cikartiyoruz , böylece en az sayida para küpürü elde ediyoruz\"\"\"\n",
    "            a=x//200\n",
    "            if a > 0:\n",
    "                  print(f\"{a} adet 200 TL\")\n",
    "            b= (x-a*200)//100\n",
    "            if b > 0:\n",
    "                  print(f\"{b} adet 100 TL\")\n",
    "            c= (x-(b*100)-(a*200))//50\n",
    "            if c > 0:\n",
    "                  print(f\"{c} adet 50 TL\")\n",
    "            d= (x-(b*100)-(a*200)-(c*50))//20\n",
    "            if d > 0:\n",
    "                  print(f\"{d} adet 20 TL\")\n",
    "            e= (x-(b*100)-(a*200)-(c*50)-(d*20))//10\n",
    "            if e > 0:\n",
    "                  print(f\"{e} adet 10 TL\")\n",
    "            f= (x-(b*100)-(a*200)-(c*50)-(d*20)-(e*10))//5\n",
    "            if f > 0:\n",
    "                  print(f\"{f} adet 5 TL\")\n",
    "            g= (x-(b*100)-(a*200)-(c*50)-(d*20)-(e*10)-(f*5))//1\n",
    "            if g > 0:\n",
    "                  print(f\"{g} adet 1 TL\")\n",
    "            \n",
    "      else :\n",
    "            print(\"Girilen deger gecersizdir\")\n",
    "#deneyelim\n",
    "para(3542)\n",
    "\n"
   ]
  },
  {
   "cell_type": "code",
   "execution_count": 10,
   "metadata": {},
   "outputs": [
    {
     "name": "stdout",
     "output_type": "stream",
     "text": [
      "6 adet 200 ,1 adet 100 TL\n"
     ]
    }
   ],
   "source": [
    "def para(x):\n",
    "      if x >0 :\n",
    "            a=x//200\n",
    "            b= (x-a*200)//100\n",
    "            c= (x-(b*100)-(a*200))//50\n",
    "            d= (x-(b*100)-(a*200)-(c*50))//20\n",
    "            e= (x-(b*100)-(a*200)-(c*50)-(d*20))//10\n",
    "            f= (x-(b*100)-(a*200)-(c*50)-(d*20)-(e*10))//5\n",
    "            g= (x-(b*100)-(a*200)-(c*50)-(d*20)-(e*10)-(f*5))//1\n",
    "            print(f\"{a} adet 200 ,{b} adet 100 TL\")\n",
    "                    \n",
    "      else :\n",
    "            print(\"Girilen deger gecersizdir\")\n",
    "\n",
    "para(1356)"
   ]
  },
  {
   "cell_type": "code",
   "execution_count": 19,
   "metadata": {},
   "outputs": [
    {
     "name": "stdout",
     "output_type": "stream",
     "text": [
      "12 adet 200 TL\n",
      "1 adet 100 TL\n",
      "1 adet 50 TL\n",
      "1 adet 10 TL\n"
     ]
    }
   ],
   "source": [
    "banknotlar=[200,100,50,20,10,5,1]\n",
    "def veznedar(para):\n",
    "    '''Foksiyon girilen TL cinsinden para miktarini sirasiyla en yüksek degerli kupurden en fazla olacak sekilde en az sayida kupur ile odeme planini hesaplar'''\n",
    "    for i in banknotlar:\n",
    "        if para>=i:\n",
    "            a=para//i\n",
    "            para=para-i*a\n",
    "            print(f'{a} adet {i} TL')\n",
    "\n",
    "veznedar(2560)"
   ]
  },
  {
   "cell_type": "code",
   "execution_count": null,
   "metadata": {},
   "outputs": [],
   "source": [
    "Task-25: FIFO tabanlı hayvan barınağı tasarımı: Berlin hayvan barınağında sadece kedi ve köpekler barınmaktadır. Ve bu barınak \"İlk Giren İlk Çıkar - FIFO\" esasına göre çalışmaktadır. Yani insanlar barınaktaki hayvanların \"en kıdemlisini\" (varış veya ekleme zamanına göre) sahiplenebilir. Köpek yada kedi tercih edecekler de yine yalnızca o türdeki barınakta kalan en kıdemli/eski hayvanı seçebilirler. İstedikleri hayvanı seçemezler. Bu sistemi sürdürmek için uygun veri yapısını oluşturup, aşağıdaki fonksiyonları uygulayın.\n",
    "- enqueue() işlevi; Barınağa(listeye) herhangi bir hayvanı ekler.\n",
    "- dequeue_cat() işlevi; Barınaktan (listeden) en eski kediyi kaldırır.\n",
    "- dequeue_dog() işlevi; Barınaktan (listeden) en eski köpeği kaldırır.\n",
    "{Not. 'En kıdemli/eski'  hayvan, 'barınağa ilk giren hayvandır'}"
   ]
  }
 ],
 "metadata": {
  "kernelspec": {
   "display_name": "Python 3.10.7 64-bit",
   "language": "python",
   "name": "python3"
  },
  "language_info": {
   "codemirror_mode": {
    "name": "ipython",
    "version": 3
   },
   "file_extension": ".py",
   "mimetype": "text/x-python",
   "name": "python",
   "nbconvert_exporter": "python",
   "pygments_lexer": "ipython3",
   "version": "3.10.7"
  },
  "orig_nbformat": 4,
  "vscode": {
   "interpreter": {
    "hash": "aee8b7b246df8f9039afb4144a1f6fd8d2ca17a180786b69acc140d282b71a49"
   }
  }
 },
 "nbformat": 4,
 "nbformat_minor": 2
}
