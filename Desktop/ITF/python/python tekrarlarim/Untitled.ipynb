{
 "cells": [
  {
   "cell_type": "code",
   "execution_count": 3,
   "id": "cda26cde",
   "metadata": {},
   "outputs": [
    {
     "name": "stdout",
     "output_type": "stream",
     "text": [
      "What is your name ?yahya\n",
      "WHAT IS YOUR LASTNAMEefe\n",
      "Hello Yahya Efe\n"
     ]
    }
   ],
   "source": [
    "first_name=input(\"What is your name ?\")\n",
    "last_name=input(\"WHAT IS YOUR LASTNAME\")\n",
    "print(\"Hello \" + first_name.capitalize()+\" \"+ last_name.capitalize())"
   ]
  },
  {
   "cell_type": "code",
   "execution_count": null,
   "id": "ed2aa3a3",
   "metadata": {},
   "outputs": [],
   "source": []
  }
 ],
 "metadata": {
  "kernelspec": {
   "display_name": "Python 3 (ipykernel)",
   "language": "python",
   "name": "python3"
  },
  "language_info": {
   "codemirror_mode": {
    "name": "ipython",
    "version": 3
   },
   "file_extension": ".py",
   "mimetype": "text/x-python",
   "name": "python",
   "nbconvert_exporter": "python",
   "pygments_lexer": "ipython3",
   "version": "3.10.7"
  }
 },
 "nbformat": 4,
 "nbformat_minor": 5
}
