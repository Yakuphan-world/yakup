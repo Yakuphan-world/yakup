{
 "cells": [
  {
   "cell_type": "code",
   "execution_count": 4,
   "metadata": {},
   "outputs": [
    {
     "name": "stdout",
     "output_type": "stream",
     "text": [
      "Doğum gününe 336 gün kaldı.\n"
     ]
    }
   ],
   "source": [
    "\n"
   ]
  },
  {
   "cell_type": "code",
   "execution_count": 53,
   "metadata": {},
   "outputs": [
    {
     "name": "stdout",
     "output_type": "stream",
     "text": [
      "2022-11-15 21:30:08.380401\n",
      "333 days, 23:18:21.619599\n"
     ]
    }
   ],
   "source": [
    "import datetime \n",
    "  \n",
    "# datetime(yıl, ay, gün, saat, dakika, saniye) \n",
    "su_an= datetime.datetime.now() \n",
    "dogum_günü= datetime.datetime(su_an.year, 10, 15, 20, 48, 30) \n",
    "print(su_an)\n",
    "if dogum_günü<su_an:\n",
    "    dogum_günü = dogum_günü.replace(year=su_an.year+1)\n",
    "  \n",
    "\n",
    "c = dogum_günü-su_an\n",
    "print(c)\n",
    "\n",
    "\n",
    "#print(f\"Doğum gününe 336 gün, 22 saat, 15 dakika, 33 saniye kaldı..\" şeklinde düzenleyiniz. (edited) )"
   ]
  },
  {
   "cell_type": "code",
   "execution_count": null,
   "metadata": {},
   "outputs": [],
   "source": []
  },
  {
   "cell_type": "code",
   "execution_count": null,
   "metadata": {},
   "outputs": [],
   "source": []
  }
 ],
 "metadata": {
  "kernelspec": {
   "display_name": "Python 3.10.7 64-bit",
   "language": "python",
   "name": "python3"
  },
  "language_info": {
   "codemirror_mode": {
    "name": "ipython",
    "version": 3
   },
   "file_extension": ".py",
   "mimetype": "text/x-python",
   "name": "python",
   "nbconvert_exporter": "python",
   "pygments_lexer": "ipython3",
   "version": "3.10.7"
  },
  "orig_nbformat": 4,
  "vscode": {
   "interpreter": {
    "hash": "aee8b7b246df8f9039afb4144a1f6fd8d2ca17a180786b69acc140d282b71a49"
   }
  }
 },
 "nbformat": 4,
 "nbformat_minor": 2
}
