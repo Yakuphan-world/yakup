{
 "cells": [
  {
   "cell_type": "code",
   "execution_count": 1,
   "id": "8095e795",
   "metadata": {},
   "outputs": [
    {
     "name": "stdout",
     "output_type": "stream",
     "text": [
      " wo\n"
     ]
    }
   ],
   "source": [
    "example = \"snow world\"\n",
    "print(\"%s\" % example[4:7])"
   ]
  },
  {
   "cell_type": "code",
   "execution_count": 3,
   "id": "fb906394",
   "metadata": {},
   "outputs": [
    {
     "ename": "SyntaxError",
     "evalue": "invalid character '“' (U+201C) (4244422785.py, line 3)",
     "output_type": "error",
     "traceback": [
      "\u001b[0;36m  Cell \u001b[0;32mIn [3], line 3\u001b[0;36m\u001b[0m\n\u001b[0;31m    print( “I live in \" city)\u001b[0m\n\u001b[0m           ^\u001b[0m\n\u001b[0;31mSyntaxError\u001b[0m\u001b[0;31m:\u001b[0m invalid character '“' (U+201C)\n"
     ]
    }
   ],
   "source": [
    "city = \"SARAJEVO\"\n",
    "city=city.capitalize()\n",
    "print(\"I live in\" city)"
   ]
  },
  {
   "cell_type": "code",
   "execution_count": 6,
   "id": "cdb73d1c",
   "metadata": {},
   "outputs": [
    {
     "name": "stdout",
     "output_type": "stream",
     "text": [
      "I live in <built-in method capitalize of str object at 0x103941970>\n"
     ]
    }
   ],
   "source": [
    "city = \"SARAJEVO\"\n",
    "text= f\"I live in {city.capitalize}\"\n",
    "print(text)"
   ]
  },
  {
   "cell_type": "code",
   "execution_count": null,
   "id": "27347590",
   "metadata": {},
   "outputs": [],
   "source": []
  }
 ],
 "metadata": {
  "kernelspec": {
   "display_name": "Python 3 (ipykernel)",
   "language": "python",
   "name": "python3"
  },
  "language_info": {
   "codemirror_mode": {
    "name": "ipython",
    "version": 3
   },
   "file_extension": ".py",
   "mimetype": "text/x-python",
   "name": "python",
   "nbconvert_exporter": "python",
   "pygments_lexer": "ipython3",
   "version": "3.10.7"
  }
 },
 "nbformat": 4,
 "nbformat_minor": 5
}
