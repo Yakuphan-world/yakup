{
 "cells": [
  {
   "cell_type": "code",
   "execution_count": 2,
   "metadata": {},
   "outputs": [],
   "source": [
    "hayvan_kayit={}\n",
    "kayit=[]\n",
    "yeni_kayit=input(\"yeni gelen hayvanin cinsini yaziniz, kayit bitti ise 0 `a basiniz.\")\n",
    "while  yeni_kayit!=0:\n",
    "      kayit.append(yeni_kayit)\n",
    "      yeni_kayit=input(\"yeni gelen hayvanin cinsini yaziniz, kayit bitti ise 0 `a basiniz.\")\n",
    "      if yeni_kayit=0:\n",
    "            break\n",
    "\n",
    "\n"
   ]
  },
  {
   "cell_type": "code",
   "execution_count": 5,
   "metadata": {},
   "outputs": [
    {
     "ename": "IndentationError",
     "evalue": "unindent does not match any outer indentation level (<tokenize>, line 8)",
     "output_type": "error",
     "traceback": [
      "\u001b[0;36m  File \u001b[0;32m<tokenize>:8\u001b[0;36m\u001b[0m\n\u001b[0;31m    if yeni_kayit==\"X\" :\u001b[0m\n\u001b[0m    ^\u001b[0m\n\u001b[0;31mIndentationError\u001b[0m\u001b[0;31m:\u001b[0m unindent does not match any outer indentation level\n"
     ]
    }
   ],
   "source": [
    "hayvan_kayit={}\n",
    "kayit=[]\n",
    "yeni_kayit=input(\"yeni gelen hayvanin cinsini yaziniz, kayit bitti ise 0 `a basiniz.\")\n",
    "while yeni_kayit!=\"X\":\n",
    "            kayit.append(yeni_kayit)\n",
    "            yeni_kayit=input(\"yeni gelen hayvanin cinsini yaziniz, kayit bitti ise X e basiniz.\")\n",
    "            \n",
    "      else yeni_kayit==\"X\":\n",
    "            break\n",
    "print(kayit)"
   ]
  },
  {
   "cell_type": "code",
   "execution_count": null,
   "metadata": {},
   "outputs": [],
   "source": []
  }
 ],
 "metadata": {
  "kernelspec": {
   "display_name": "Python 3.10.7 64-bit",
   "language": "python",
   "name": "python3"
  },
  "language_info": {
   "codemirror_mode": {
    "name": "ipython",
    "version": 3
   },
   "file_extension": ".py",
   "mimetype": "text/x-python",
   "name": "python",
   "nbconvert_exporter": "python",
   "pygments_lexer": "ipython3",
   "version": "3.10.7"
  },
  "orig_nbformat": 4,
  "vscode": {
   "interpreter": {
    "hash": "aee8b7b246df8f9039afb4144a1f6fd8d2ca17a180786b69acc140d282b71a49"
   }
  }
 },
 "nbformat": 4,
 "nbformat_minor": 2
}
