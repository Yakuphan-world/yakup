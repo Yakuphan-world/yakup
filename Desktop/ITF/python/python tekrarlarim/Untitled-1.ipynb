{
 "cells": [
  {
   "cell_type": "code",
   "execution_count": null,
   "metadata": {},
   "outputs": [],
   "source": [
    "\"\"\"Task-25: FIFO tabanlı hayvan barınağı tasarımı: Berlin hayvan barınağında sadece kedi ve köpekler barınmaktadır. Ve bu barınak \"İlk Giren İlk Çıkar - FIFO\" esasına göre çalışmaktadır. Yani insanlar barınaktaki hayvanların \"en kıdemlisini\" (varış veya ekleme zamanına göre) sahiplenebilir. Köpek yada kedi tercih edecekler de yine yalnızca o türdeki barınakta kalan en kıdemli/eski hayvanı seçebilirler. İstedikleri hayvanı seçemezler. Bu sistemi sürdürmek için uygun veri yapısını oluşturup, aşağıdaki fonksiyonları uygulayın.\n",
    "- enqueue() işlevi; Barınağa(listeye) herhangi bir hayvanı ekler.\n",
    "- dequeue_cat() işlevi; Barınaktan (listeden) en eski kediyi kaldırır.\n",
    "- dequeue_dog() işlevi; Barınaktan (listeden) en eski köpeği kaldırır.\n",
    "{Not. 'En kıdemli/eski'  hayvan, 'barınağa ilk giren hayvandır'}\"\"\""
   ]
  },
  {
   "cell_type": "markdown",
   "metadata": {},
   "source": [
    "barinak_dict = {}\n",
    "kayit_no = 1\n",
    "def enqueue(tur, hayvan_adi):\n",
    "    '''\"cat\" ve \"dog\" olmak üzere iki tür hayvani ve isimlerini parametre olarak alip  barinak_dict isimli \n",
    "    ic ice sözlüge kayit_no ile birlikte ekleyen fonksiyon'''\n",
    "    global kayit_no\n",
    "    barinak_dict.setdefault(tur, {})\n",
    "    barinak_dict[tur].update({kayit_no:hayvan_adi})   \n",
    "    kayit_no += 1\n",
    "\n",
    "\n",
    "enqueue(\"cat\", \"Boncuk\")\n",
    "enqueue(\"cat\", \"Badem\")\n",
    "enqueue(\"cat\", \"zeytin\")\n",
    "enqueue(\"dog\", \"Comar\")\n",
    "enqueue(\"dog\", \"karabas\")\n",
    "enqueue(\"cat\", \"tekir\")\n",
    "\n",
    "\n",
    "# print(barinak_dict) # hic hayvan almadan önce barinaktaki tüm hayvanlar\n",
    "\n",
    "\n",
    "def dequeue_cat():\n",
    "    '''Hayvanlar barinagindaki en kidemli kediyi barinaktan cikaran ve \n",
    "    bu islemin öncesi ve sonrasinda barinaktaki son durumu yazdiran fonksiyon'''\n",
    "    if len(barinak_dict[\"cat\"]) > 0:\n",
    "        print(\"Kediyi almadan önce barinaktaki tüm hayvanlar: \", barinak_dict)\n",
    "        ilk_giren_kedi_id = min(barinak_dict[\"cat\"].keys())\n",
    "        print(\"Bu kediyi alabilirsiniz:\" ,barinak_dict[\"cat\"].pop(ilk_giren_kedi_id))\n",
    "        print(\"Kediyi aldiktan sonra barinaktaki tüm hayvanlar: \", barinak_dict)\n",
    "        print()\n",
    "    else:\n",
    "        print(\"Malesef elimizde kedi kalmadi. Isterseniz köpek almayi deneyebilirsiniz!\")\n",
    "        print()\n",
    "\n",
    "def dequeue_dog():\n",
    "    '''Hayvanlar barinagindaki en kidemli köpegi barinaktan cikaran ve \n",
    "    bu islemin öncesi ve sonrasinda barinaktaki son durumu yazdiran fonksiyon'''\n",
    "    if len(barinak_dict[\"dog\"]) > 0:\n",
    "        print(\"Köpegi almadan önce barinaktaki tüm hayvanlar: \", barinak_dict)\n",
    "        ilk_giren_kopek_id = min(barinak_dict[\"dog\"].keys())\n",
    "        print(\"Bu köpegi alabilirsiniz: \" ,barinak_dict[\"dog\"].pop(ilk_giren_kopek_id))\n",
    "        print(\"Köpegi aldiktan sonra barinaktaki tüm hayvanlar: \", barinak_dict)\n",
    "        print()\n",
    "    else:\n",
    "        print(\"Malesef elimizde köpek kalmadi. Isterseniz kedi almayi deneyebilirsiniz!\")\n",
    "        print()\n",
    "\n",
    "\n",
    "dequeue_cat()\n",
    "dequeue_dog()\n",
    "dequeue_dog()\n",
    "dequeue_dog()\n",
    "\n",
    "#Test edelim\n",
    "\n",
    "# Kediyi almadan önce barinaktaki tüm hayvanlar:  {'cat': {1: 'Boncuk', 2: 'Badem', 3: 'zeytin', 6: 'tekir'}, 'dog': {4: 'Comar', 5: 'karabas'}}\n",
    "# Bu kediyi alabilirsiniz: Boncuk\n",
    "# Kediyi aldiktan sonra barinaktaki tüm hayvanlar:  {'cat': {2: 'Badem', 3: 'zeytin', 6: 'tekir'}, 'dog': {4: 'Comar', 5: 'karabas'}}\n",
    "\n",
    "# Köpegi almadan önce barinaktaki tüm hayvanlar:  {'cat': {2: 'Badem', 3: 'zeytin', 6: 'tekir'}, 'dog': {4: 'Comar', 5: 'karabas'}}\n",
    "# Bu köpegi alabilirsiniz:  Comar\n",
    "# Köpegi aldiktan sonra barinaktaki tüm hayvanlar:  {'cat': {2: 'Badem', 3: 'zeytin', 6: 'tekir'}, 'dog': {5: 'karabas'}}\n",
    "\n",
    "# Köpegi almadan önce barinaktaki tüm hayvanlar:  {'cat': {2: 'Badem', 3: 'zeytin', 6: 'tekir'}, 'dog': {5: 'karabas'}}\n",
    "# Bu köpegi alabilirsiniz:  karabas\n",
    "# Köpegi aldiktan sonra barinaktaki tüm hayvanlar:  {'cat': {2: 'Badem', 3: 'zeytin', 6: 'tekir'}, 'dog': {}}\n",
    "\n",
    "# Malesef elimizde köpek kalmadi. Isterseniz kedi almayi deneyebilirsiniz!"
   ]
  },
  {
   "cell_type": "markdown",
   "metadata": {},
   "source": []
  }
 ],
 "metadata": {
  "kernelspec": {
   "display_name": "Python 3.10.7 64-bit",
   "language": "python",
   "name": "python3"
  },
  "language_info": {
   "name": "python",
   "version": "3.10.7"
  },
  "orig_nbformat": 4,
  "vscode": {
   "interpreter": {
    "hash": "aee8b7b246df8f9039afb4144a1f6fd8d2ca17a180786b69acc140d282b71a49"
   }
  }
 },
 "nbformat": 4,
 "nbformat_minor": 2
}
