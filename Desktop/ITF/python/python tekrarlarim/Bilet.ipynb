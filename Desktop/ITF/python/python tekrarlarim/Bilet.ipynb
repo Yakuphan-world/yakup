{
 "cells": [
  {
   "cell_type": "code",
   "execution_count": 4,
   "metadata": {},
   "outputs": [
    {
     "name": "stdout",
     "output_type": "stream",
     "text": [
      "20.0 sayı doğrusu üzerinde değil\n"
     ]
    }
   ],
   "source": [
    "#X sayısının alabileceği değerler (çözüm) kümesi sayı doğrusu üzerinde gösterilmiştir.\n",
    "#Buna göre girilen X değeri bu aralıkta ise “X sayı doğrusu üzerinde” değilse “X sayı doğrusu üzerinde değil” mesajını ekranda gösteren programı kodlayalım.\n",
    "X = float(input(\"bir sayi giriniz...\"))\n",
    "if 12<= X < 15 :\n",
    "      print(f\"{X} sayı doğrusu üzerinde\")\n",
    "else:\n",
    "      print(f\"{X} sayı doğrusu üzerinde değil\")"
   ]
  },
  {
   "cell_type": "code",
   "execution_count": 15,
   "metadata": {},
   "outputs": [
    {
     "ename": "SyntaxError",
     "evalue": "unterminated string literal (detected at line 2) (3168661120.py, line 2)",
     "output_type": "error",
     "traceback": [
      "\u001b[0;36m  Cell \u001b[0;32mIn [15], line 2\u001b[0;36m\u001b[0m\n\u001b[0;31m    print(\"Genç %15: 13-26 yaşları arasında bulunan gençler faydalanabilmektedir\u001b[0m\n\u001b[0m          ^\u001b[0m\n\u001b[0;31mSyntaxError\u001b[0m\u001b[0;31m:\u001b[0m unterminated string literal (detected at line 2)\n"
     ]
    }
   ],
   "source": [
    "\n",
    "if indirim==1 :\n",
    "      yeni_fiyat=bilet_fiyati - bilet_fiyati*0.15\n",
    "      print(f\"Ödenmesi gereken tutar {yeni_fiyat} TL dir \")\n",
    "elif indirim==2 :\n",
    "      yeni_fiyat= bilet_fiyati - bilet_fiyati*0.15\n",
    "      print(f\"Ödenmesi gereken tutar {yeni_fiyat} TL dir \")\n",
    "elif indirim==3 :\n",
    "      yeni_fiyat= bilet_fiyati - bilet_fiyati*0.15\n",
    "      print(f\"Ödenmesi gereken tutar {yeni_fiyat} TL dir \")\n",
    "elif indirim==4 :\n",
    "      yeni_fiyat= bilet_fiyati - bilet_fiyati*0.15\n",
    "      print(f\"Ödenmesi gereken tutar {yeni_fiyat} TL dir \")\n",
    "elif indirim==5 :\n",
    "      yeni_fiyat= bilet_fiyati - bilet_fiyati*0.20\n",
    "      print(f\"Ödenmesi gereken tutar {yeni_fiyat} TL dir \")\n",
    "elif indirim==6 :\n",
    "      yeni_fiyat=bilet_fiyati - bilet_fiyati*0.50\n",
    "      print(f\"Ödenmesi gereken tutar {yeni_fiyat} TL dir \")\n",
    "elif indirim==7 :\n",
    "      yeni_fiyat=bilet_fiyati - bilet_fiyati*0.50\n",
    "      print(f\"Ödenmesi gereken tutar {yeni_fiyat} TL dir \")\n",
    "elif indirim==8 :\n",
    "      yeni_fiyat= bilet_fiyati - bilet_fiyati*0.15\n",
    "      print(f\"Ödenmesi gereken tutar {yeni_fiyat} TL dir \")\n",
    "else :\n",
    "      yeni_fiyat= bilet_fiyati\n",
    "      print(f\"Ödenmesi gereken tutar {yeni_fiyat} TL dir \")"
   ]
  },
  {
   "cell_type": "code",
   "execution_count": 24,
   "metadata": {},
   "outputs": [
    {
     "ename": "AttributeError",
     "evalue": "'str' object has no attribute 'titel'",
     "output_type": "error",
     "traceback": [
      "\u001b[0;31m---------------------------------------------------------------------------\u001b[0m",
      "\u001b[0;31mAttributeError\u001b[0m                            Traceback (most recent call last)",
      "Cell \u001b[0;32mIn [24], line 2\u001b[0m\n\u001b[1;32m      1\u001b[0m meslek\u001b[38;5;241m=\u001b[39m\u001b[38;5;28minput\u001b[39m(\u001b[38;5;124m\"\u001b[39m\u001b[38;5;124mEger Ögretmen,Asker,Basin ya da Personel iseniz lütfen mesleginizi belirtiniz..\u001b[39m\u001b[38;5;124m\"\u001b[39m)\n\u001b[0;32m----> 2\u001b[0m meslek\u001b[38;5;241m=\u001b[39m\u001b[43mmeslek\u001b[49m\u001b[38;5;241;43m.\u001b[39;49m\u001b[43mtitel\u001b[49m()\n\u001b[1;32m      3\u001b[0m yas\u001b[38;5;241m=\u001b[39m\u001b[38;5;28mint\u001b[39m(\u001b[38;5;28minput\u001b[39m(\u001b[38;5;124m\"\u001b[39m\u001b[38;5;124mlütfen yasinizi belirtiniz...\u001b[39m\u001b[38;5;124m\"\u001b[39m))\n\u001b[1;32m      4\u001b[0m bilet\u001b[38;5;241m=\u001b[39m\u001b[38;5;241m100\u001b[39m\n",
      "\u001b[0;31mAttributeError\u001b[0m: 'str' object has no attribute 'titel'"
     ]
    }
   ],
   "source": [
    "meslek=input(\"Eger Ögretmen,Asker,Basin ya da Personel iseniz lütfen mesleginizi belirtiniz..\")\n",
    "yas=int(input(\"lütfen yasinizi belirtiniz...\"))\n",
    "bilet=100\n",
    "if 13 <= yas <= 26 :\n",
    "      yeni_bilet= bilet- bilet*0.15\n",
    "      print(f\"Indirimli bilet fiyatiniz {yeni_bilet}Tl'dir iyi yolculuklar dileriz.\")\n",
    "elif 60 <= yas <= 64 :\n",
    "      yeni_bilet= bilet- bilet*0.15\n",
    "      print(f\"Indirimli bilet fiyatiniz {yeni_bilet}Tl'dir iyi yolculuklar dileriz.\")\n",
    "elif 7 <= yas <= 12 :\n",
    "      yeni_bilet= bilet- bilet*0.15\n",
    "      print(f\"Indirimli bilet fiyatiniz {yeni_bilet}Tl'dir iyi yolculuklar dileriz.\")\n",
    "elif  yas<6 :\n",
    "      yeni_bilet= 0 \n",
    "      print(f\"Indirimli bilet fiyatiniz {yeni_bilet}Tl'dir iyi yolculuklar dileriz.\")\n",
    "elif yas >= 65 :\n",
    "      yeni_bilet= bilet- bilet*0.50\n",
    "      print(f\"Indirimli bilet fiyatiniz {yeni_bilet}Tl'dir iyi yolculuklar dileriz.\")\n",
    "elif meslek == \"Ögretmen\" :\n",
    "      yeni_bilet= bilet- bilet*0.15\n",
    "      print(f\"Indirimli bilet fiyatiniz {yeni_bilet}Tl'dir iyi yolculuklar dileriz.\")\n",
    "elif meslek == \"Personel\" :\n",
    "      yeni_bilet= bilet- bilet*0.20\n",
    "      print(f\"Indirimli bilet fiyatiniz {yeni_bilet}Tl'dir iyi yolculuklar dileriz.\")\n",
    "elif meslek == \"Asker\" :\n",
    "      yeni_bilet= bilet- bilet*0.15\n",
    "      print(f\"Indirimli bilet fiyatiniz {yeni_bilet}Tl'dir iyi yolculuklar dileriz.\")\n",
    "elif meslek == \"Basin\" :\n",
    "      yeni_bilet= bilet- bilet*0.15\n",
    "      print(f\"Indirimli bilet fiyatiniz {yeni_bilet}Tl'dir iyi yolculuklar dileriz.\")\n",
    "else:\n",
    "      print(f\"bilet fiyatiniz {bilet} TL`dir iyi yolculuklar dileriz.\")\n",
    "\n",
    "\n",
    "\n"
   ]
  }
 ],
 "metadata": {
  "kernelspec": {
   "display_name": "Python 3.10.7 64-bit",
   "language": "python",
   "name": "python3"
  },
  "language_info": {
   "codemirror_mode": {
    "name": "ipython",
    "version": 3
   },
   "file_extension": ".py",
   "mimetype": "text/x-python",
   "name": "python",
   "nbconvert_exporter": "python",
   "pygments_lexer": "ipython3",
   "version": "3.10.7"
  },
  "orig_nbformat": 4,
  "vscode": {
   "interpreter": {
    "hash": "aee8b7b246df8f9039afb4144a1f6fd8d2ca17a180786b69acc140d282b71a49"
   }
  }
 },
 "nbformat": 4,
 "nbformat_minor": 2
}
