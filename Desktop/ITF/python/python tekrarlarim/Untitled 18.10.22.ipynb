{
 "cells": [
  {
   "cell_type": "code",
   "execution_count": 1,
   "metadata": {},
   "outputs": [
    {
     "name": "stdout",
     "output_type": "stream",
     "text": [
      "['rose', 'violet', 'carnation', 'rose', 'orchid', 'rose', 'orchid']\n",
      "{'violet', 'rose', 'carnation', 'orchid'}\n",
      "['violet', 'rose', 'carnation', 'orchid']\n"
     ]
    }
   ],
   "source": [
    "flower_list = ['rose', 'violet', 'carnation', 'rose', 'orchid', 'rose', 'orchid']\n",
    "flowerset = set(flower_list)\n",
    "flowerlist = list(flowerset)\n",
    "print(flower_list)\n",
    "print(flowerset)\n",
    "print(flowerlist)"
   ]
  },
  {
   "cell_type": "code",
   "execution_count": 2,
   "metadata": {},
   "outputs": [
    {
     "name": "stdout",
     "output_type": "stream",
     "text": [
      "{'orchid', 'rose', 'carnation', 'violet'}\n",
      "{'orchid', 'rose', 'carnation', 'violet'}\n"
     ]
    }
   ],
   "source": [
    "a = {23,\"Ahmet\",True,False,77}\n",
    "a = {'carnation', 'orchid', 'rose', 'violet'} \n",
    "b = {'rose', 'orchid', 'rose', 'violet', 'carnation'} \n",
    "print(a)\n",
    "print(b)"
   ]
  },
  {
   "cell_type": "code",
   "execution_count": 3,
   "metadata": {},
   "outputs": [
    {
     "name": "stdout",
     "output_type": "stream",
     "text": [
      "{'i', 'h', 'p', 'd', 'e', 'l', 'a'}\n"
     ]
    }
   ],
   "source": [
    "a = set('philadelphia') \n",
    "print(a)"
   ]
  },
  {
   "cell_type": "code",
   "execution_count": 4,
   "metadata": {},
   "outputs": [
    {
     "name": "stdout",
     "output_type": "stream",
     "text": [
      "{'i', 'h', 'o', 'd', 'p', 'l', 'n'}\n"
     ]
    }
   ],
   "source": [
    "b = set('dolphin') \n",
    "print(b)"
   ]
  },
  {
   "cell_type": "code",
   "execution_count": 5,
   "metadata": {},
   "outputs": [
    {
     "name": "stdout",
     "output_type": "stream",
     "text": [
      "{'e', 'a'}\n"
     ]
    }
   ],
   "source": [
    "print(a-b) "
   ]
  },
  {
   "cell_type": "code",
   "execution_count": 6,
   "metadata": {},
   "outputs": [
    {
     "name": "stdout",
     "output_type": "stream",
     "text": [
      "{'i', 'h', 'o', 'p', 'd', 'e', 'l', 'a', 'n'}\n",
      "{'i', 'h', 'o', 'p', 'd', 'e', 'l', 'a', 'n'}\n"
     ]
    }
   ],
   "source": [
    "# iki kümeyi birleştirme\n",
    "print(a|b)\n",
    "print(a.union(b))"
   ]
  },
  {
   "cell_type": "code",
   "execution_count": 7,
   "metadata": {},
   "outputs": [
    {
     "name": "stdout",
     "output_type": "stream",
     "text": [
      "{'i', 'h', 'd', 'p', 'l'}\n",
      "{'i', 'h', 'd', 'p', 'l'}\n"
     ]
    }
   ],
   "source": [
    "#iki küme kesişimi (ortak elemanları)\n",
    "print(a&b)\n",
    "print(a.intersection(b))\n"
   ]
  },
  {
   "cell_type": "code",
   "execution_count": 8,
   "metadata": {},
   "outputs": [
    {
     "name": "stdout",
     "output_type": "stream",
     "text": [
      "{'i'}\n"
     ]
    }
   ],
   "source": [
    "c = set('inek') \n",
    "print(a&b&c)"
   ]
  },
  {
   "cell_type": "code",
   "execution_count": 17,
   "metadata": {},
   "outputs": [
    {
     "name": "stdout",
     "output_type": "stream",
     "text": [
      "{'r', 'm', 'i', 'k', 'ö', 'e', 'ü', 'c', 'n'}\n",
      "{'r', 'm', 'i', 'k', 'ö', 'e', 'ü', 'c', 'n'}\n",
      "{'e', 'k'}\n",
      "{'e', 'k'}\n",
      "{'n'}\n",
      "{'n'}\n"
     ]
    }
   ],
   "source": [
    "a=set(\"inek\")\n",
    "b=set(\"örümcek\")\n",
    "c=set(\"keci\")\n",
    "print(a|b|c)\n",
    "print(a.union(b).union(c))\n",
    "print(a.intersection(b).intersection(c))\n",
    "print(a&b&c)\n",
    "print(a.difference(c))\n",
    "print(a-c)"
   ]
  },
  {
   "cell_type": "code",
   "execution_count": 18,
   "metadata": {},
   "outputs": [
    {
     "name": "stdout",
     "output_type": "stream",
     "text": [
      "{'9', '1', '2', '/', '0'}\n",
      "{'09/12/2022'}\n"
     ]
    }
   ],
   "source": [
    "a = set('09/12/2022')\n",
    "b = {'09/12/2022'}\n",
    "print(a)\n",
    "print(b)"
   ]
  },
  {
   "cell_type": "code",
   "execution_count": 19,
   "metadata": {},
   "outputs": [
    {
     "name": "stdout",
     "output_type": "stream",
     "text": [
      "Örtüşen eleman var\n"
     ]
    }
   ],
   "source": [
    "## İki datanın tamamen birbirinden farklı olup olmadığını nasıl anlarım?\n",
    "a = set('alim')\n",
    "b = set('dorak')\n",
    "print(a.isdisjoint(b) and \"Tamamen farklı\" or \"Örtüşen eleman var\")"
   ]
  },
  {
   "cell_type": "code",
   "execution_count": 20,
   "metadata": {},
   "outputs": [
    {
     "name": "stdout",
     "output_type": "stream",
     "text": [
      "{1, 2, 3, 4, 5}\n"
     ]
    }
   ],
   "source": [
    "given_list =[1,2,3,3,3,3,4,4,5,5]\n",
    "print(set(given_list))"
   ]
  },
  {
   "cell_type": "code",
   "execution_count": null,
   "metadata": {},
   "outputs": [],
   "source": []
  }
 ],
 "metadata": {
  "kernelspec": {
   "display_name": "Python 3.10.7 64-bit",
   "language": "python",
   "name": "python3"
  },
  "language_info": {
   "codemirror_mode": {
    "name": "ipython",
    "version": 3
   },
   "file_extension": ".py",
   "mimetype": "text/x-python",
   "name": "python",
   "nbconvert_exporter": "python",
   "pygments_lexer": "ipython3",
   "version": "3.10.7"
  },
  "orig_nbformat": 4,
  "vscode": {
   "interpreter": {
    "hash": "aee8b7b246df8f9039afb4144a1f6fd8d2ca17a180786b69acc140d282b71a49"
   }
  }
 },
 "nbformat": 4,
 "nbformat_minor": 2
}
